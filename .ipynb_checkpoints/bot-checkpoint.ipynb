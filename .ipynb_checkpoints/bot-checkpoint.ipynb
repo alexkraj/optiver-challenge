{
 "cells": [
  {
   "cell_type": "code",
   "execution_count": 2,
   "id": "soviet-orientation",
   "metadata": {},
   "outputs": [
    {
     "name": "stderr",
     "output_type": "stream",
     "text": [
      "2021-01-23 20:48:49,577 [matplotlib] [MainThread  ] (private) matplotlib data path: /usr/local/lib64/python3.6/site-packages/matplotlib/mpl-data\n",
      "2021-01-23 20:48:49,578 [matplotlib] [MainThread  ] matplotlib data path: /usr/local/lib64/python3.6/site-packages/matplotlib/mpl-data\n",
      "2021-01-23 20:48:49,585 [matplotlib] [MainThread  ] CONFIGDIR=/home/ec2-user/.config/matplotlib\n",
      "2021-01-23 20:48:49,592 [matplotlib] [MainThread  ] matplotlib version 3.3.3\n",
      "2021-01-23 20:48:49,593 [matplotlib] [MainThread  ] interactive is False\n",
      "2021-01-23 20:48:49,594 [matplotlib] [MainThread  ] platform is linux\n",
      "2021-01-23 20:48:49,595 [matplotlib] [MainThread  ] loaded modules: ['builtins', 'sys', '_frozen_importlib', '_imp', '_warnings', '_thread', '_weakref', '_frozen_importlib_external', '_io', 'marshal', 'posix', 'zipimport', 'encodings', 'codecs', '_codecs', 'encodings.aliases', 'encodings.ascii', '_signal', '__main__', 'encodings.utf_8', 'encodings.latin_1', 'io', 'abc', '_weakrefset', '_bootlocale', '_locale', 'site', 'os', 'errno', 'stat', '_stat', 'posixpath', 'genericpath', 'os.path', '_collections_abc', '_sitebuiltins', 'sysconfig', '_sysconfigdata_m_linux_x86_64-linux-gnu', 'types', 'functools', '_functools', 'collections', 'operator', '_operator', 'keyword', 'heapq', '_heapq', 'itertools', 'reprlib', '_collections', 'weakref', 'collections.abc', 'importlib', 'importlib._bootstrap', 'importlib._bootstrap_external', 'warnings', 'importlib.util', 'importlib.abc', 'importlib.machinery', 'contextlib', 'mpl_toolkits', 'virtualenvwrapper', 'runpy', 'pkgutil', 'ipykernel', 'ipykernel._version', 'ipykernel.connect', 'json', 'json.decoder', 're', 'enum', 'sre_compile', '_sre', 'sre_parse', 'sre_constants', 'copyreg', 'json.scanner', '_json', 'json.encoder', 'subprocess', 'time', 'signal', '_posixsubprocess', 'select', 'selectors', 'math', 'threading', 'traceback', 'linecache', 'tokenize', 'token', 'IPython', 'IPython.core', 'IPython.core.getipython', 'IPython.core.release', 'IPython.core.application', 'atexit', 'copy', 'glob', 'fnmatch', 'logging', 'string', '_string', 'shutil', 'zlib', 'bz2', '_compression', '_bz2', 'lzma', '_lzma', 'pwd', 'grp', 'traitlets', 'traitlets.traitlets', 'inspect', 'ast', '_ast', 'dis', 'opcode', '_opcode', 'six', '__future__', 'struct', '_struct', 'traitlets.utils', 'traitlets.utils.getargspec', 'traitlets.utils.importstring', 'ipython_genutils', 'ipython_genutils._version', 'ipython_genutils.py3compat', 'ipython_genutils.encoding', 'locale', 'platform', 'traitlets.utils.sentinel', 'traitlets.utils.bunch', 'traitlets._version', 'traitlets.config', 'traitlets.config.application', 'decorator', 'traitlets.config.configurable', 'traitlets.config.loader', 'argparse', 'textwrap', 'gettext', 'ipython_genutils.path', 'random', 'hashlib', '_hashlib', '_blake2', '_sha3', 'bisect', '_bisect', '_random', 'ipython_genutils.text', 'ipython_genutils.importstring', 'IPython.core.crashhandler', 'pprint', 'IPython.core.ultratb', 'pydoc', 'urllib', 'urllib.parse', 'IPython.core.debugger', 'bdb', 'IPython.utils', 'IPython.utils.PyColorize', 'IPython.utils.coloransi', 'IPython.utils.ipstruct', 'IPython.utils.colorable', 'pygments', 'IPython.utils.py3compat', 'IPython.utils.encoding', 'IPython.core.excolors', 'IPython.testing', 'IPython.testing.skipdoctest', 'pdb', 'cmd', 'code', 'codeop', 'IPython.core.display_trap', 'IPython.utils.path', 'IPython.utils.process', 'IPython.utils._process_posix', 'pexpect', 'pexpect.exceptions', 'pexpect.utils', 'pexpect.expect', 'pexpect.pty_spawn', 'pty', 'tty', 'termios', 'ptyprocess', 'ptyprocess.ptyprocess', 'fcntl', 'resource', 'ptyprocess.util', 'pexpect.spawnbase', 'pexpect.run', 'IPython.utils._process_common', 'shlex', 'IPython.utils.decorators', 'IPython.utils.data', 'IPython.utils.terminal', 'IPython.utils.sysinfo', 'IPython.utils._sysinfo', 'IPython.core.profiledir', 'IPython.paths', 'tempfile', 'IPython.utils.importstring', 'IPython.terminal', 'IPython.terminal.embed', 'IPython.core.compilerop', 'IPython.core.magic_arguments', 'IPython.core.error', 'IPython.utils.text', 'pathlib', 'ntpath', 'IPython.core.magic', 'getopt', 'IPython.core.oinspect', 'typing', 'typing.io', 'typing.re', 'IPython.core.page', 'IPython.core.display', 'binascii', 'mimetypes', 'IPython.lib', 'IPython.lib.security', 'getpass', 'IPython.lib.pretty', 'datetime', '_datetime', 'IPython.utils.openpy', 'IPython.utils.dir2', 'IPython.utils.wildcard', 'pygments.lexers', 'pygments.lexers._mapping', 'pygments.modeline', 'pygments.plugin', 'pygments.util', 'pygments.lexers.python', 'pygments.lexer', 'pygments.filter', 'pygments.filters', 'pygments.token', 'pygments.regexopt', 'pygments.unistring', 'pygments.formatters', 'pygments.formatters._mapping', 'pygments.formatters.html', 'pygments.formatter', 'pygments.styles', 'IPython.core.inputtransformer2', 'IPython.core.interactiveshell', 'pickleshare', 'pickle', '_compat_pickle', '_pickle', 'IPython.core.prefilter', 'IPython.core.autocall', 'IPython.core.macro', 'IPython.core.splitinput', 'IPython.core.alias', 'IPython.core.builtin_trap', 'IPython.core.events', 'backcall', 'backcall.backcall', 'IPython.core.displayhook', 'IPython.core.displaypub', 'IPython.core.extensions', 'IPython.core.formatters', 'IPython.utils.sentinel', 'IPython.core.history', 'sqlite3', 'sqlite3.dbapi2', '_sqlite3', 'IPython.core.logger', 'IPython.core.payload', 'IPython.core.usage', 'IPython.display', 'IPython.lib.display', 'html', 'html.entities', 'IPython.utils.io', 'IPython.utils.capture', 'IPython.utils.strdispatch', 'IPython.core.hooks', 'IPython.utils.syspathcontext', 'IPython.utils.tempdir', 'IPython.utils.contexts', 'IPython.core.async_helpers', 'IPython.terminal.interactiveshell', 'asyncio', 'asyncio.base_events', 'concurrent', 'concurrent.futures', 'concurrent.futures._base', 'concurrent.futures.process', 'queue', 'multiprocessing', 'multiprocessing.context', 'multiprocessing.process', 'multiprocessing.reduction', 'socket', '_socket', 'array', '__mp_main__', 'multiprocessing.connection', '_multiprocessing', 'multiprocessing.util', 'concurrent.futures.thread', 'asyncio.compat', 'asyncio.coroutines', 'asyncio.constants', 'asyncio.events', 'asyncio.base_futures', 'asyncio.log', 'asyncio.futures', 'asyncio.base_tasks', '_asyncio', 'asyncio.tasks', 'asyncio.locks', 'asyncio.protocols', 'asyncio.queues', 'asyncio.streams', 'asyncio.subprocess', 'asyncio.transports', 'asyncio.unix_events', 'asyncio.base_subprocess', 'asyncio.selector_events', 'ssl', 'ipaddress', '_ssl', 'base64', 'asyncio.sslproto', 'prompt_toolkit', 'prompt_toolkit.application', 'prompt_toolkit.application.application', 'prompt_toolkit.buffer', 'prompt_toolkit.application.current', 'contextvars', 'immutables', 'immutables._map', 'immutables._version', 'prompt_toolkit.application.run_in_terminal', 'prompt_toolkit.eventloop', 'prompt_toolkit.eventloop.async_generator', 'prompt_toolkit.eventloop.utils', 'prompt_toolkit.eventloop.inputhook', 'prompt_toolkit.utils', 'wcwidth', 'wcwidth.wcwidth', 'wcwidth.table_wide', 'wcwidth.table_zero', 'wcwidth.unicode_versions', 'prompt_toolkit.eventloop.async_context_manager', 'prompt_toolkit.auto_suggest', 'prompt_toolkit.document', 'prompt_toolkit.clipboard', 'prompt_toolkit.clipboard.base', 'prompt_toolkit.selection', 'prompt_toolkit.clipboard.in_memory', 'prompt_toolkit.filters', 'prompt_toolkit.filters.app', 'prompt_toolkit.cache', 'prompt_toolkit.enums', 'prompt_toolkit.filters.base', 'prompt_toolkit.filters.cli', 'prompt_toolkit.filters.utils', 'prompt_toolkit.completion', 'prompt_toolkit.completion.base', 'prompt_toolkit.formatted_text', 'prompt_toolkit.formatted_text.ansi', 'prompt_toolkit.output', 'prompt_toolkit.output.base', 'prompt_toolkit.data_structures', 'prompt_toolkit.styles', 'prompt_toolkit.styles.base', 'prompt_toolkit.styles.defaults', 'prompt_toolkit.styles.named_colors', 'prompt_toolkit.styles.style', 'prompt_toolkit.styles.pygments', 'prompt_toolkit.styles.style_transformation', 'colorsys', 'prompt_toolkit.output.color_depth', 'prompt_toolkit.output.defaults', 'prompt_toolkit.patch_stdout', 'prompt_toolkit.output.vt100', 'prompt_toolkit.formatted_text.base', 'prompt_toolkit.mouse_events', 'prompt_toolkit.formatted_text.html', 'xml', 'xml.dom', 'xml.dom.domreg', 'xml.dom.minidom', 'xml.dom.minicompat', 'xml.dom.xmlbuilder', 'xml.dom.NodeFilter', 'prompt_toolkit.formatted_text.pygments', 'prompt_toolkit.formatted_text.utils', 'prompt_toolkit.completion.filesystem', 'prompt_toolkit.completion.fuzzy_completer', 'prompt_toolkit.completion.word_completer', 'prompt_toolkit.completion.nested', 'prompt_toolkit.history', 'prompt_toolkit.search', 'prompt_toolkit.key_binding', 'prompt_toolkit.key_binding.key_bindings', 'prompt_toolkit.keys', 'prompt_toolkit.key_binding.key_processor', 'prompt_toolkit.key_binding.vi_state', 'prompt_toolkit.validation', 'prompt_toolkit.input', 'prompt_toolkit.input.base', 'prompt_toolkit.input.defaults', 'prompt_toolkit.input.typeahead', 'prompt_toolkit.key_binding.bindings', 'prompt_toolkit.key_binding.bindings.page_navigation', 'prompt_toolkit.key_binding.bindings.scroll', 'prompt_toolkit.key_binding.defaults', 'prompt_toolkit.key_binding.bindings.basic', 'prompt_toolkit.key_binding.bindings.named_commands', 'prompt_toolkit.layout', 'prompt_toolkit.layout.containers', 'prompt_toolkit.layout.controls', 'prompt_toolkit.lexers', 'prompt_toolkit.lexers.base', 'prompt_toolkit.lexers.pygments', 'prompt_toolkit.layout.processors', 'prompt_toolkit.layout.utils', 'prompt_toolkit.layout.dimension', 'prompt_toolkit.layout.margins', 'prompt_toolkit.layout.mouse_handlers', 'prompt_toolkit.layout.screen', 'prompt_toolkit.layout.layout', 'prompt_toolkit.layout.menus', 'prompt_toolkit.key_binding.bindings.completion', 'prompt_toolkit.key_binding.bindings.cpr', 'prompt_toolkit.key_binding.bindings.emacs', 'prompt_toolkit.key_binding.bindings.mouse', 'prompt_toolkit.key_binding.bindings.vi', 'prompt_toolkit.input.vt100_parser', 'prompt_toolkit.input.ansi_escape_sequences', 'prompt_toolkit.key_binding.digraphs', 'prompt_toolkit.key_binding.emacs_state', 'prompt_toolkit.layout.dummy', 'prompt_toolkit.renderer', 'prompt_toolkit.application.dummy', 'prompt_toolkit.shortcuts', 'prompt_toolkit.shortcuts.dialogs', 'prompt_toolkit.key_binding.bindings.focus', 'prompt_toolkit.widgets', 'prompt_toolkit.widgets.base', 'prompt_toolkit.widgets.toolbars', 'prompt_toolkit.widgets.dialogs', 'prompt_toolkit.widgets.menus', 'prompt_toolkit.shortcuts.progress_bar', 'prompt_toolkit.shortcuts.progress_bar.base', 'prompt_toolkit.shortcuts.progress_bar.formatters', 'prompt_toolkit.shortcuts.prompt', 'prompt_toolkit.key_binding.bindings.auto_suggest', 'prompt_toolkit.key_binding.bindings.open_in_editor', 'prompt_toolkit.shortcuts.utils', 'pygments.style', 'IPython.terminal.debugger', 'IPython.core.completer', 'unicodedata', 'IPython.core.latex_symbols', 'IPython.utils.generics', 'jedi', 'jedi.api', 'parso', 'parso.parser', 'parso.tree', 'parso._compatibility', 'parso.pgen2', 'parso.pgen2.parse', 'parso.python', 'parso.python.tokenize', 'parso.python.token', 'parso.utils', 'parso.grammar', 'parso.pgen2.pgen', 'parso.pgen2.grammar', 'parso.python.diff', 'difflib', 'parso.python.parser', 'parso.python.tree', 'parso.python.prefix', 'parso.cache', 'gc', 'parso.python.errors', 'parso.normalizer', 'parso.python.pep8', 'parso.python.fstring', 'jedi.parser_utils', 'jedi._compatibility', 'imp', 'jedi.debug', 'colorama', 'colorama.initialise', 'colorama.ansitowin32', 'colorama.ansi', 'colorama.winterm', 'colorama.win32', 'ctypes', '_ctypes', 'ctypes._endian', 'jedi.settings', 'jedi.cache', 'jedi.api.classes', 'jedi.evaluate', 'jedi.evaluate.utils', 'jedi.evaluate.imports', 'jedi.evaluate.sys_path', 'jedi.evaluate.site', 'jedi.evaluate.cache', 'jedi.evaluate.base_context', 'jedi.common', 'jedi.common.context', 'jedi.evaluate.helpers', 'jedi.evaluate.compiled', 'jedi.evaluate.filters', 'jedi.evaluate.flow_analysis', 'jedi.evaluate.lazy_context', 'jedi.evaluate.compiled.getattr_static', 'jedi.evaluate.compiled.fake', 'jedi.evaluate.analysis', 'jedi.evaluate.recursion', 'jedi.evaluate.context', 'jedi.evaluate.context.module', 'jedi.evaluate.context.klass', 'jedi.evaluate.context.function', 'jedi.evaluate.docstrings', 'jedi.evaluate.pep0484', 'jedi.evaluate.arguments', 'jedi.evaluate.context.iterable', 'jedi.evaluate.param', 'jedi.evaluate.parser_cache', 'jedi.evaluate.context.instance', 'jedi.evaluate.syntax_tree', 'jedi.evaluate.finder', 'jedi.api.keywords', 'pydoc_data', 'pydoc_data.topics', 'jedi.api.interpreter', 'jedi.evaluate.compiled.mixed', 'jedi.api.helpers', 'jedi.api.completion', 'jedi.evaluate.usages', 'jedi.evaluate.project', 'IPython.terminal.ptutils', 'IPython.terminal.shortcuts', 'IPython.terminal.magics', 'IPython.lib.clipboard', 'IPython.terminal.pt_inputhooks', 'IPython.terminal.prompts', 'IPython.terminal.ipapp', 'IPython.core.magics', 'IPython.core.magics.auto', 'IPython.core.magics.basic', 'IPython.core.magics.code', 'urllib.request', 'email', 'http', 'http.client', 'email.parser', 'email.feedparser', 'email.errors', 'email._policybase', 'email.header', 'email.quoprimime', 'email.base64mime', 'email.charset', 'email.encoders', 'quopri', 'email.utils', 'email._parseaddr', 'calendar', 'email.message', 'uu', 'email._encoded_words', 'email.iterators', 'urllib.error', 'urllib.response', 'IPython.core.magics.config', 'IPython.core.magics.display', 'IPython.core.magics.execution', 'timeit', 'cProfile', '_lsprof', 'profile', 'optparse', 'pstats', 'IPython.utils.module_paths', 'IPython.utils.timing', 'IPython.core.magics.extension', 'IPython.core.magics.history', 'IPython.core.magics.logging', 'IPython.core.magics.namespace', 'IPython.core.magics.osm', 'IPython.core.magics.packaging', 'IPython.core.magics.pylab', 'IPython.core.pylabtools', 'IPython.core.magics.script', 'IPython.lib.backgroundjobs', 'IPython.core.shellapp', 'IPython.extensions', 'IPython.extensions.storemagic', 'IPython.utils.frame', 'jupyter_client', 'jupyter_client._version', 'jupyter_client.connect', 'zmq', 'zmq.backend', 'zmq.backend.select', 'zmq.backend.cython', 'zmq.backend.cython.constants', 'cython_runtime', 'zmq.backend.cython.error', '_cython_0_29_21', 'zmq.backend.cython.message', 'zmq.error', 'zmq.backend.cython.context', 'zmq.backend.cython.socket', 'zmq.backend.cython.utils', 'zmq.backend.cython._poll', 'zmq.backend.cython._version', 'zmq.backend.cython._device', 'zmq.backend.cython._proxy_steerable', 'zmq.sugar', 'zmq.sugar.constants', 'zmq.utils', 'zmq.utils.constant_names', 'zmq.sugar.context', 'zmq.sugar.attrsettr', 'zmq.sugar.socket', 'zmq.sugar.poll', 'zmq.utils.jsonapi', 'zmq.utils.strtypes', 'zmq.sugar.frame', 'zmq.sugar.tracker', 'zmq.sugar.version', 'zmq.sugar.stopwatch', 'jupyter_client.localinterfaces', 'jupyter_core', 'jupyter_core.version', 'jupyter_core.paths', 'jupyter_client.launcher', 'traitlets.log', 'jupyter_client.client', 'jupyter_client.channels', 'jupyter_client.channelsabc', 'jupyter_client.clientabc', 'jupyter_client.manager', 'jupyter_client.kernelspec', 'jupyter_client.managerabc', 'jupyter_client.blocking', 'jupyter_client.blocking.client', 'jupyter_client.blocking.channels', 'jupyter_client.asynchronous', 'jupyter_client.asynchronous.client', 'zmq.asyncio', 'zmq._future', 'jupyter_client.asynchronous.channels', 'jupyter_client.multikernelmanager', 'uuid', 'ctypes.util', 'ipykernel.kernelapp', 'tornado', 'tornado.ioloop', 'numbers', 'tornado.concurrent', 'tornado.log', 'logging.handlers', 'tornado.escape', 'tornado.util', 'tornado.speedups', 'curses', '_curses', 'zmq.eventloop', 'zmq.eventloop.ioloop', 'tornado.platform', 'tornado.platform.asyncio', 'tornado.gen', 'zmq.eventloop.zmqstream', 'ipykernel.iostream', 'jupyter_client.session', 'hmac', 'jupyter_client.jsonutil', 'dateutil', 'dateutil._version', 'dateutil.parser', 'dateutil.parser._parser', 'decimal', '_decimal', 'dateutil.relativedelta', 'dateutil._common', 'dateutil.tz', 'dateutil.tz.tz', 'six.moves', 'dateutil.tz._common', 'dateutil.tz._factories', 'dateutil.parser.isoparser', '_strptime', 'jupyter_client.adapter', 'ipykernel.heartbeat', 'ipykernel.ipkernel', 'IPython.utils.tokenutil', 'ipykernel.comm', 'ipykernel.comm.manager', 'ipykernel.comm.comm', 'ipykernel.kernelbase', 'tornado.queues', 'tornado.locks', 'ipykernel.jsonutil', 'ipykernel.zmqshell', 'IPython.core.payloadpage', 'ipykernel.displayhook', 'ipykernel.datapub', 'ipykernel.serialize', 'ipykernel.pickleutil', 'ipykernel.codeutil', 'ipykernel.eventloops', 'distutils', 'distutils.version', 'ipykernel.parentpoller', 'faulthandler', 'IPython.core.completerlib', 'storemagic', 'optibook', 'capnp', 'capnp.version', 'capnp.lib', 'capnp.lib.capnp', '_cython_0_29_16', 'optibook.synchronous_client', 'optibook.exchange_client', 'optibook.base_client', 'optibook.idl', 'optibook.idl.common_capnp', 'optibook.common_types', 'optibook.idl.exec_capnp', 'optibook.idl.info_capnp', 'optibook.synchronous_wrapper', 'optibook.management_client', 'optibook.type_checking', 'optibook.idl.management_capnp', 'optibook.greeks_calculator', 'matplotlib', 'matplotlib.cbook', 'gzip', 'numpy', 'numpy._globals', 'numpy.__config__', 'numpy.version', 'numpy._distributor_init', 'numpy.core', 'numpy.core.multiarray', 'numpy.core.overrides', 'numpy.core._multiarray_umath', 'numpy.compat', 'numpy.compat._inspect', 'numpy.compat.py3k', 'numpy.core.umath', 'numpy.core.numerictypes', 'numpy.core._string_helpers', 'numpy.core._type_aliases', 'numpy.core._dtype', 'numpy.core.numeric', 'numpy.core.shape_base', 'numpy.core._asarray', 'numpy.core.fromnumeric', 'numpy.core._methods', 'numpy.core._exceptions', 'numpy.core._ufunc_config', 'numpy.core.arrayprint', 'numpy.core.defchararray', 'numpy.core.records', 'numpy.core.memmap', 'numpy.core.function_base', 'numpy.core.machar', 'numpy.core.getlimits', 'numpy.core.einsumfunc', 'numpy.core._add_newdocs', 'numpy.core._multiarray_tests', 'numpy.core._dtype_ctypes', 'numpy.core._internal', 'numpy._pytesttester', 'numpy.lib', 'numpy.lib.mixins', 'numpy.lib.scimath', 'numpy.lib.type_check', 'numpy.lib.ufunclike', 'numpy.lib.index_tricks', 'numpy.matrixlib', 'numpy.matrixlib.defmatrix', 'numpy.linalg', 'numpy.linalg.linalg', 'numpy.lib.twodim_base', 'numpy.linalg.lapack_lite', 'numpy.linalg._umath_linalg', 'numpy.lib.function_base', 'numpy.lib.histograms', 'numpy.lib.stride_tricks', 'numpy.lib.nanfunctions', 'numpy.lib.shape_base', 'numpy.lib.polynomial', 'numpy.lib.utils', 'numpy.lib.arraysetops', 'numpy.lib.npyio', 'numpy.lib.format', 'numpy.lib._datasource', 'numpy.lib._iotools', 'numpy.lib.financial', 'numpy.lib.arrayterator', 'numpy.lib.arraypad', 'numpy.lib._version', 'numpy.fft', 'numpy.fft._pocketfft', 'numpy.fft._pocketfft_internal', 'numpy.fft.helper', 'numpy.polynomial', 'numpy.polynomial.polynomial', 'numpy.polynomial.polyutils', 'numpy.polynomial._polybase', 'numpy.polynomial.chebyshev', 'numpy.polynomial.legendre', 'numpy.polynomial.hermite', 'numpy.polynomial.hermite_e', 'numpy.polynomial.laguerre', 'numpy.random', 'numpy.random._pickle', 'numpy.random.mtrand', 'numpy.random.bit_generator', 'numpy.random._common', 'secrets', 'numpy.random._bounded_integers', 'numpy.random._mt19937', 'numpy.random._philox', 'numpy.random._pcg64', 'numpy.random._sfc64', 'numpy.random._generator', 'numpy.ctypeslib', 'numpy.ma', 'numpy.ma.core', 'numpy.ma.extras', 'numpy.testing', 'unittest', 'unittest.result', 'unittest.util', 'unittest.case', 'unittest.suite', 'unittest.loader', 'unittest.main', 'unittest.runner', 'unittest.signals', 'numpy.testing._private', 'numpy.testing._private.utils', 'numpy.testing._private.decorators', 'numpy.testing._private.nosetester', 'matplotlib.cbook.deprecation', 'matplotlib.rcsetup', 'matplotlib.animation', 'matplotlib._animation_data', 'matplotlib.fontconfig_pattern', 'pyparsing', 'matplotlib.colors', 'matplotlib.docstring', 'matplotlib._color_data', 'cycler', 'matplotlib._version', 'matplotlib.ft2font', 'kiwisolver']\n",
      "2021-01-23 20:48:49,661 [matplotlib] [MainThread  ] CACHEDIR=/home/ec2-user/.cache/matplotlib\n",
      "2021-01-23 20:48:49,664 [matplotlib.font_manager] [MainThread  ] Using fontManager instance from /home/ec2-user/.cache/matplotlib/fontlist-v330.json\n",
      "2021-01-23 20:48:49,949 [matplotlib.pyplot] [MainThread  ] Loaded backend module://ipykernel.pylab.backend_inline version unknown.\n",
      "2021-01-23 20:48:49,955 [matplotlib.pyplot] [MainThread  ] Loaded backend module://ipykernel.pylab.backend_inline version unknown.\n"
     ]
    },
    {
     "name": "stdout",
     "output_type": "stream",
     "text": [
      "Setup was successful.\n"
     ]
    }
   ],
   "source": [
    "from optibook.synchronous_client import Exchange\n",
    "import time\n",
    "import matplotlib.pyplot as plt\n",
    "import numpy as np\n",
    "import logging\n",
    "logger = logging.getLogger('client')\n",
    "logger.setLevel('ERROR')\n",
    "\n",
    "print(\"Setup was successful.\")"
   ]
  },
  {
   "cell_type": "code",
   "execution_count": 3,
   "id": "romantic-metallic",
   "metadata": {},
   "outputs": [
    {
     "name": "stderr",
     "output_type": "stream",
     "text": [
      "2021-01-23 20:48:55,471 [asyncio   ] [MainThread  ] Using selector: EpollSelector\n"
     ]
    }
   ],
   "source": [
    "e = Exchange()\n",
    "a = e.connect()"
   ]
  },
  {
   "cell_type": "code",
   "execution_count": 4,
   "id": "balanced-earth",
   "metadata": {},
   "outputs": [],
   "source": [
    "philips_a = 'PHILIPS_A'\n",
    "philips_b = 'PHILIPS_B'"
   ]
  },
  {
   "cell_type": "code",
   "execution_count": 5,
   "id": "emerging-commercial",
   "metadata": {},
   "outputs": [],
   "source": [
    "def my_position():\n",
    "    # Returns all current positions with cash invested\n",
    "    positions = e.get_positions_and_cash()\n",
    "    for p in positions:\n",
    "        print(p, positions[p])\n",
    "        \n"
   ]
  },
  {
   "cell_type": "code",
   "execution_count": 20,
   "id": "careful-burst",
   "metadata": {},
   "outputs": [
    {
     "name": "stdout",
     "output_type": "stream",
     "text": [
      "PHILIPS_A {'volume': -400, 'cash': 32199.099999999988}\n",
      "PHILIPS_B {'volume': 0, 'cash': 4749.600000000029}\n"
     ]
    }
   ],
   "source": [
    "my_position()"
   ]
  },
  {
   "cell_type": "code",
   "execution_count": 7,
   "id": "bridal-studio",
   "metadata": {},
   "outputs": [],
   "source": [
    "# Delete all outstanding orders\n",
    "def delete_outstanding(instrument):\n",
    "    outstanding = e.get_outstanding_orders(instrument)\n",
    "    for o in outstanding.values():\n",
    "        result = e.delete_order(instrument, order_id=o.order_id)\n",
    "        print(f\"Deleted order id {o.order_id}: {result}\")"
   ]
  },
  {
   "cell_type": "code",
   "execution_count": 8,
   "id": "comprehensive-paintball",
   "metadata": {},
   "outputs": [],
   "source": [
    "# See all your outstanding orders\n",
    "def view_outstanding(instrument):\n",
    "    outstanding = e.get_outstanding_orders(instrument)\n",
    "    for o in outstanding.values():\n",
    "        print(f\"Outstanding order: order_id({o.order_id}), instrument_id({o.instrument_id}), price({o.price}), volume({o.volume}), side({o.side})\")"
   ]
  },
  {
   "cell_type": "code",
   "execution_count": 9,
   "id": "educational-investing",
   "metadata": {},
   "outputs": [],
   "source": [
    "def best_selling_price(instrument):\n",
    "    book = e.get_last_price_book(instrument)\n",
    "    best = book.bids[0].price\n",
    "    return best\n",
    "\n",
    "def best_buying_price(instrument):\n",
    "    book = e.get_last_price_book(instrument)\n",
    "    best = book.asks[0].price\n",
    "    return best\n",
    "    \n",
    "    "
   ]
  },
  {
   "cell_type": "code",
   "execution_count": 340,
   "id": "rental-drilling",
   "metadata": {},
   "outputs": [
    {
     "name": "stdout",
     "output_type": "stream",
     "text": [
      "Deleted order id 261036: True\n"
     ]
    }
   ],
   "source": [
    "delete_outstanding(philips_a)"
   ]
  },
  {
   "cell_type": "code",
   "execution_count": 11,
   "id": "exact-graph",
   "metadata": {},
   "outputs": [],
   "source": [
    "view_outstanding(philips_a)\n",
    "view_outstanding(philips_b)"
   ]
  },
  {
   "cell_type": "code",
   "execution_count": 12,
   "id": "cultural-gravity",
   "metadata": {},
   "outputs": [],
   "source": [
    "def average_a(timesteps):\n",
    "    # Returns all public tradeticks since the instantiation of the Exchange\n",
    "    tradeticks = e.get_trade_tick_history(philips_a)\n",
    "    prices = []\n",
    "    for t in tradeticks[-timesteps:]:\n",
    "        if t.price<100:\n",
    "            prices.append(t.price)\n",
    "\n",
    "    return np.mean(prices)\n",
    "\n",
    "def average_b(timesteps):\n",
    "    # Returns all public tradeticks since the instantiation of the Exchange\n",
    "    tradeticks = e.get_trade_tick_history(philips_b)\n",
    "    prices = []\n",
    "    for t in tradeticks[-timesteps:]:\n",
    "        if t.price<100:\n",
    "            prices.append(t.price)\n",
    "\n",
    "    return np.mean(prices)\n",
    "\n",
    "def get_range_b(timesteps):\n",
    "    tradeticks = e.get_trade_tick_history(philips_b)\n",
    "    prices = []\n",
    "    for t in tradeticks[-timesteps:]:\n",
    "        if t.price<100:\n",
    "            prices.append(t.price)\n",
    "    return [np.percentile(prices, 99), np.mean(prices), np.percentile(prices, 1)]\n",
    "    \n",
    "def get_range_a(timesteps):\n",
    "    tradeticks = e.get_trade_tick_history(philips_a)\n",
    "    prices = []\n",
    "    for t in tradeticks[-timesteps:]:\n",
    "        if t.price<100:\n",
    "            prices.append(t.price)\n",
    "    return [np.percentile(prices, 99), np.mean(prices), np.percentile(prices, 1)]\n",
    "    \n"
   ]
  },
  {
   "cell_type": "code",
   "execution_count": 13,
   "id": "lovely-fifteen",
   "metadata": {},
   "outputs": [
    {
     "name": "stdout",
     "output_type": "stream",
     "text": [
      "[93.9, 93.22413793103448, 92.5]\n"
     ]
    }
   ],
   "source": [
    "average_a(6000)\n",
    "print(get_range_b(10000))"
   ]
  },
  {
   "cell_type": "code",
   "execution_count": null,
   "id": "suitable-willow",
   "metadata": {},
   "outputs": [],
   "source": []
  },
  {
   "cell_type": "code",
   "execution_count": 28,
   "id": "athletic-trauma",
   "metadata": {},
   "outputs": [
    {
     "name": "stdout",
     "output_type": "stream",
     "text": [
      "PHILIPS_A {'volume': 0, 'cash': -5750.900000000012}\n",
      "PHILIPS_B {'volume': 0, 'cash': 4749.600000000029}\n",
      "92.11972340425532\n",
      "94.30000000000001\n",
      "PHILIPS_A {'volume': 0, 'cash': -5750.900000000012}\n",
      "PHILIPS_B {'volume': 0, 'cash': 4749.600000000029}\n"
     ]
    }
   ],
   "source": [
    "my_position()\n",
    "print(np.mean(bought_prices))\n",
    "print(best_selling_price(philips_a))\n",
    "my_position()"
   ]
  },
  {
   "cell_type": "code",
   "execution_count": 27,
   "id": "unlike-province",
   "metadata": {},
   "outputs": [
    {
     "name": "stdout",
     "output_type": "stream",
     "text": [
      "-100\n"
     ]
    },
    {
     "data": {
      "text/plain": [
       "386570"
      ]
     },
     "execution_count": 27,
     "metadata": {},
     "output_type": "execute_result"
    }
   ],
   "source": [
    "current_position = e.get_positions_and_cash()\n",
    "volume_left = current_position[philips_a]['volume']\n",
    "print(volume_left)\n",
    "best_sell = best_buying_price(philips_a)\n",
    "e.insert_order(philips_a, price=best_sell, volume=100, order_type='limit', side='bid')"
   ]
  },
  {
   "cell_type": "code",
   "execution_count": 30,
   "id": "partial-mailing",
   "metadata": {},
   "outputs": [],
   "source": [
    "bought_prices = [average_b(200)+0.5]\n",
    "weighted_prices_a = [average_a(10)]\n",
    "\n",
    "weighted_prices_b = [average_b(10)]"
   ]
  },
  {
   "cell_type": "code",
   "execution_count": null,
   "id": "sensitive-vertical",
   "metadata": {},
   "outputs": [
    {
     "name": "stdout",
     "output_type": "stream",
     "text": [
      "Updated Weights A=95.20573529411767 B=94.73743243243243\n",
      "Updated Weights A=95.20188405797103 B=94.7444\n",
      "Buying  1 A at price 95.2\n",
      "Updated Weights A=95.20159420289858 B=94.75118421052633\n",
      "Buying  1 A at price 95.2\n",
      "Buying  1 A at price 95.10000000000001\n",
      "Buying  1 A at price 95.2\n",
      "Buying  1 A at price 95.2\n",
      "Buying  1 A at price 95.2\n",
      "Buying  1 A at price 95.2\n",
      "Buying  1 A at price 95.2\n",
      "Updated Weights A=95.20269841269845 B=94.7577922077922\n",
      "Updated Weights A=95.19890625000001 B=94.76423076923079\n",
      "Selling 9 A at price 95.2 ****** Expect to buy at 95.19890625000001\n",
      "Selling 10 A at price 95.4 ****** Expect to buy at 95.19904109589044\n",
      "Selling 10 A at price 95.4 ****** Expect to buy at 95.2232530120482\n",
      "Selling 10 A at price 95.5 ****** Expect to buy at 95.24225806451612\n",
      "Updated Weights A=95.2664423076923 B=94.77126582278483\n",
      "Selling 10 A at price 95.5 ****** Expect to buy at 95.2664423076923\n",
      "Selling 11 A at price 95.7 ****** Expect to buy at 95.2869298245614\n",
      "Selling 10 A at price 95.80000000000001 ****** Expect to buy at 95.32327999999997\n",
      "Selling 9 A at price 95.7 ****** Expect to buy at 95.35859259259261\n",
      "Selling 9 A at price 95.7 ****** Expect to buy at 95.37993055555555\n",
      "Updated Weights A=95.39967532467534 B=94.781375\n",
      "Selling 9 A at price 95.7 ****** Expect to buy at 95.39967532467534\n",
      "Selling 9 A at price 95.7 ****** Expect to buy at 95.41625766871167\n",
      "Selling 10 A at price 95.9 ****** Expect to buy at 95.4311046511628\n",
      "Selling 10 A at price 96.0 ****** Expect to buy at 95.45686813186812\n",
      "Selling 9 A at price 96.0 ****** Expect to buy at 95.48515625\n",
      "Updated Weights A=95.5099504950495 B=94.79888888888888\n",
      "Selling 9 A at price 96.0 ****** Expect to buy at 95.5099504950495\n",
      "Selling 9 A at price 96.0 ****** Expect to buy at 95.53085308056873\n",
      "Selling 9 A at price 96.0 ****** Expect to buy at 95.55004545454544\n",
      "Selling 9 A at price 96.0 ****** Expect to buy at 95.56772925764191\n",
      "Selling 8 A at price 95.9 ****** Expect to buy at 95.58407563025207\n",
      "Updated Weights A=95.59510121457488 B=94.81597560975611\n",
      "Buying  1 A at price 95.5\n",
      "Selling 8 A at price 95.9 ****** Expect to buy at 95.59434959349592\n",
      "Selling 7 A at price 95.80000000000001 ****** Expect to buy at 95.60397637795278\n",
      "Selling 9 A at price 96.0 ****** Expect to buy at 95.6092337164751\n",
      "Selling 7 A at price 95.80000000000001 ****** Expect to buy at 95.62225925925927\n",
      "Selling 9 A at price 96.0 ****** Expect to buy at 95.62675090252708\n",
      "Selling 7 A at price 95.80000000000001 ****** Expect to buy at 95.63849650349651\n",
      "Selling 8 A at price 95.9 ****** Expect to buy at 95.64235494880548\n",
      "Updated Weights A=95.64917218543047 B=94.8297590361446\n",
      "Selling 8 A at price 95.9 ****** Expect to buy at 95.64917218543047\n",
      "Selling 8 A at price 95.9 ****** Expect to buy at 95.65564516129034\n",
      "Selling 10 A at price 96.10000000000001 ****** Expect to buy at 95.6617924528302\n",
      "Selling 9 A at price 96.0 ****** Expect to buy at 95.67515243902439\n",
      "Selling 10 A at price 96.2 ****** Expect to buy at 95.68382789317508\n",
      "Updated Weights A=95.69905172413792 B=94.84440476190477\n",
      "Selling 6 A at price 95.80000000000001 ****** Expect to buy at 95.69905172413792\n",
      "Selling 7 A at price 95.9 ****** Expect to buy at 95.7007627118644\n",
      "Selling 7 A at price 95.9 ****** Expect to buy at 95.70462603878117\n",
      "Selling 7 A at price 95.9 ****** Expect to buy at 95.70834239130434\n",
      "Selling 9 A at price 96.10000000000001 ****** Expect to buy at 95.71192\n",
      "Updated Weights A=95.72137662337663 B=94.86058823529413\n",
      "Selling 8 A at price 96.0 ****** Expect to buy at 95.72137662337663\n",
      "Selling 9 A at price 96.10000000000001 ****** Expect to buy at 95.727048346056\n",
      "Selling 8 A at price 96.0 ****** Expect to buy at 95.73539800995026\n",
      "Selling 8 A at price 96.0 ****** Expect to buy at 95.74056097560977\n",
      "Selling 5 A at price 95.80000000000001 ****** Expect to buy at 95.74552631578949\n",
      "Updated Weights A=95.74620283018868 B=94.87616279069769\n",
      "Selling 4 A at price 95.80000000000001 ****** Expect to buy at 95.74620283018868\n",
      "Buying  1 A at price 95.60000000000001\n",
      "Buying  1 A at price 95.7\n",
      "Buying  1 A at price 95.7\n",
      "Buying  1 A at price 95.7\n",
      "Buying  1 A at price 95.7\n",
      "Buying  1 A at price 95.60000000000001\n",
      "Buying  1 A at price 95.30000000000001\n",
      "Updated Weights A=95.74509478672987 B=94.88862068965518\n",
      "Buying  1 A at price 95.7\n",
      "Buying  1 A at price 95.7\n",
      "Buying  1 A at price 95.7\n",
      "Buying  1 A at price 95.7\n",
      "Buying  1 A at price 95.7\n",
      "Buying  1 A at price 95.7\n",
      "Buying  1 A at price 95.5\n",
      "Updated Weights A=95.74290865384616 B=94.89875\n",
      "Buying  1 A at price 95.5\n",
      "Buying  1 A at price 95.5\n",
      "Buying  1 A at price 95.5\n",
      "Buying  1 A at price 95.60000000000001\n",
      "Buying  1 A at price 95.60000000000001\n",
      "Buying  1 A at price 95.5\n",
      "Buying  1 A at price 95.4\n",
      "Buying  1 A at price 95.4\n",
      "Buying  1 A at price 95.5\n",
      "Buying  1 A at price 95.5\n",
      "Updated Weights A=95.73692874692873 B=94.90752808988765\n",
      "Buying  1 A at price 95.5\n",
      "Buying  1 A at price 95.5\n",
      "Buying  1 A at price 95.5\n",
      "Buying  1 A at price 95.0\n",
      "Buying  1 A at price 95.5\n",
      "Buying  1 A at price 95.5\n",
      "Buying  1 A at price 95.5\n",
      "Buying  1 A at price 95.5\n",
      "Buying  1 A at price 95.5\n",
      "Buying  1 A at price 95.7\n",
      "Updated Weights A=95.729824120603 B=94.91344444444444\n",
      "Buying  1 A at price 95.7\n",
      "Buying  1 A at price 95.7\n",
      "Updated Weights A=95.7286901763224 B=94.91923076923075\n",
      "Buying  1 A at price 95.7\n",
      "Updated Weights A=95.72833753148613 B=94.92467391304345\n",
      "Buying  1 A at price 95.7\n",
      "Buying  1 A at price 95.7\n",
      "Buying  1 A at price 95.60000000000001\n",
      "Buying  1 A at price 95.60000000000001\n",
      "Buying  1 A at price 95.60000000000001\n",
      "Buying  1 A at price 95.5\n",
      "Buying  1 A at price 95.4\n",
      "Buying  1 A at price 95.4\n",
      "Buying  1 A at price 95.30000000000001\n",
      "Buying  1 A at price 95.30000000000001\n",
      "Updated Weights A=95.7214175257732 B=94.92999999999998\n",
      "Buying  1 A at price 95.30000000000001\n",
      "Buying  1 A at price 95.5\n",
      "Buying  1 A at price 95.5\n",
      "Buying  1 A at price 95.60000000000001\n",
      "Buying  1 A at price 95.60000000000001\n",
      "Buying  1 A at price 95.7\n",
      "Buying  1 A at price 95.7\n",
      "Buying  1 A at price 95.7\n",
      "Updated Weights A=95.71635170603675 B=94.9352127659574\n",
      "Buying  1 A at price 95.30000000000001\n",
      "Updated Weights A=95.71577427821522 B=94.940947368421\n",
      "Buying  1 A at price 95.7\n",
      "Buying  1 A at price 95.0\n",
      "Buying  1 A at price 95.4\n",
      "Buying  1 A at price 95.5\n",
      "Updated Weights A=95.7118783068783 B=94.94760416666666\n",
      "Buying  1 A at price 95.5\n",
      "Buying  1 A at price 95.5\n",
      "Buying  1 A at price 95.4\n",
      "Buying  1 A at price 95.30000000000001\n",
      "Buying  1 A at price 95.30000000000001\n",
      "Buying  1 A at price 95.30000000000001\n",
      "Buying  1 A at price 95.5\n",
      "Buying  1 A at price 95.5\n",
      "Buying  1 A at price 95.4\n",
      "Buying  1 A at price 95.5\n",
      "Updated Weights A=95.70707317073172 B=94.95350515463917\n",
      "Buying  1 A at price 95.5\n",
      "Buying  1 A at price 95.60000000000001\n",
      "Buying  1 A at price 95.60000000000001\n",
      "Buying  1 A at price 95.60000000000001\n",
      "Buying  1 A at price 95.5\n",
      "Buying  1 A at price 95.5\n",
      "Buying  1 A at price 95.7\n",
      "Buying  1 A at price 95.7\n",
      "Buying  1 A at price 95.7\n",
      "Buying  1 A at price 95.7\n",
      "Updated Weights A=95.7028611111111 B=94.9592857142857\n",
      "Buying  1 A at price 95.2\n",
      "Buying  1 A at price 95.5\n",
      "Buying  1 A at price 95.5\n",
      "Buying  1 A at price 95.30000000000001\n",
      "Buying  1 A at price 95.4\n",
      "Buying  1 A at price 95.4\n",
      "Buying  1 A at price 95.60000000000001\n",
      "Buying  1 A at price 95.2\n",
      "Buying  1 A at price 95.2\n",
      "Updated Weights A=95.6983806818182 B=94.96656565656565\n",
      "Buying  1 A at price 95.2\n",
      "Buying  1 A at price 95.2\n",
      "Buying  1 A at price 95.2\n",
      "Buying  1 A at price 95.30000000000001\n",
      "Buying  1 A at price 95.2\n",
      "Buying  1 A at price 95.2\n",
      "Buying  1 A at price 95.10000000000001\n",
      "Buying  1 A at price 95.10000000000001\n",
      "Buying  1 A at price 95.0\n",
      "Buying  1 A at price 95.0\n",
      "Updated Weights A=95.68877551020407 B=94.97069999999997\n",
      "Buying  1 A at price 94.80000000000001\n",
      "Buying  1 A at price 95.10000000000001\n",
      "Buying  1 A at price 95.10000000000001\n",
      "Buying  1 A at price 95.30000000000001\n",
      "Buying  1 A at price 95.10000000000001\n",
      "Buying  1 A at price 95.10000000000001\n",
      "Buying  1 A at price 95.2\n",
      "Buying  1 A at price 95.30000000000001\n",
      "Buying  1 A at price 95.30000000000001\n",
      "Buying  1 A at price 95.30000000000001\n",
      "Updated Weights A=95.67811377245508 B=94.9735643564356\n",
      "Buying  1 A at price 95.2\n",
      "Buying  1 A at price 95.2\n",
      "Buying  1 A at price 95.4\n",
      "Buying  1 A at price 95.2\n",
      "Buying  1 A at price 95.2\n",
      "Buying  1 A at price 95.10000000000001\n",
      "Buying  1 A at price 95.10000000000001\n",
      "Buying  1 A at price 94.7\n",
      "Buying  1 A at price 94.2\n",
      "Buying  1 A at price 94.5\n",
      "Updated Weights A=95.66520000000001 B=94.97362745098033\n",
      "Buying  1 A at price 94.5\n",
      "Buying  1 A at price 94.5\n",
      "Buying 4 B at price 94.80000000000001 ****** Expect to sell at 94.97362745098033\n"
     ]
    }
   ],
   "source": [
    "start_pnl = e.get_pnl()\n",
    "\n",
    "timer = 0\n",
    "\n",
    "while timer<1000:\n",
    "    stats_a = get_range_a(1000)\n",
    "    stats_b = get_range_b(1000)\n",
    "    \n",
    "    max_range_a = stats_a[0]-stats_a[1]\n",
    "    low_range_b = stats_b[1]-stats_b[2]\n",
    "    \n",
    "    book_a = e.get_last_price_book(philips_a)\n",
    "    book_b = e.get_last_price_book(philips_b)\n",
    "    \n",
    "    if len(book_a.asks)!=0 and len(book_a.bids)!=0:\n",
    "        current_ask_a = book_a.asks[0].price\n",
    "        current_bid_a = book_a.bids[0].price\n",
    "    if len(book_b.asks)!=0 and len(book_b.bids)!=0:\n",
    "        current_ask_b = book_b.asks[0].price\n",
    "        current_bid_b = book_b.bids[0].price\n",
    "    #print(current_ask)\n",
    "    \n",
    "    average = average_b(2000)\n",
    "    #print(average)\n",
    "    positions = e.get_positions_and_cash()\n",
    "    volume_left_a = positions[philips_a]['volume']\n",
    "    volume_left_b = positions[philips_b]['volume']\n",
    "    \n",
    "    # SELLING A WHEN HIGH\n",
    "    if current_bid_a>np.mean(weighted_prices_a) and volume_left_a>-400:\n",
    "        price = current_bid_a\n",
    "        volume = max(int(10*(current_bid_a-stats_a[1])/max_range_a),1)\n",
    "        buying_order = e.insert_order(philips_a, price=current_bid_a, volume=volume, side = 'ask', order_type = 'ioc')\n",
    "        print('Selling %s A at price %s ****** Expect to buy at %s'%(volume, current_bid_a, np.mean(weighted_prices_a)))\n",
    "        bought_prices.append(price)\n",
    "        updated_weights = [price]*volume\n",
    "        weighted_prices_a = updated_weights + weighted_prices_a\n",
    "        time.sleep(1)\n",
    "        timer+=1\n",
    "        \n",
    "    \n",
    "    # BUYING A WHEN LOW\n",
    "    if current_ask_a<np.mean(weighted_prices_a) and volume_left_a<1:\n",
    "        sell_volume = min(int(10*(np.mean(weighted_prices_a)-current_ask_a)*max_range_a), -volume_left_a)\n",
    "        if sell_volume<1:\n",
    "            sell_volume = 1\n",
    "        selling_order = e.insert_order(philips_a, price=current_ask_a, volume=sell_volume, side='bid', order_type='limit')  \n",
    "        print('Buying  %s A at price %s'%(sell_volume, str(current_ask_a)))\n",
    "        weighted_prices_a = weighted_prices_a[sell_volume:]\n",
    "#         time.sleep(1)\n",
    "#         timer +=1\n",
    "        \n",
    "    # BUYING B THEY LOW\n",
    "    if current_ask_b<np.mean(weighted_prices_b) and volume_left_b<400:\n",
    "        price = current_ask_b\n",
    "        volume = max(int(10*((stats_b[1]-current_ask_b)/low_range_b)),1)\n",
    "        buying_order = e.insert_order(philips_b, price=current_ask_b, volume=volume, side = 'bid', order_type = 'ioc')\n",
    "        print('Buying %s B at price %s ****** Expect to sell at %s'%(volume, current_ask_b, np.mean(weighted_prices_b)))\n",
    "        bought_prices.append(price)\n",
    "        updated_weights = [price]*volume\n",
    "        weighted_prices_b = updated_weights + weighted_prices_b\n",
    "        time.sleep(1)\n",
    "        timer+=1\n",
    "        \n",
    "    \n",
    "    # SELLING B WHEN HIGH\n",
    "    if current_bid_b>np.mean(weighted_prices_b) and volume_left_b>0:\n",
    "        sell_volume = min(int(10*(current_bid_b-np.mean(weighted_prices_b)*low_range_b)), volume_left_b)\n",
    "        if sell_volume<1:\n",
    "            sell_volume = 1\n",
    "        selling_order = e.insert_order(philips_b, price=current_bid_b, volume=sell_volume, side='ask', order_type='limit')  \n",
    "        print('Selling %s B at price %s'%(sell_volume, str(current_bid_b)))\n",
    "        weighted_prices_b = weighted_prices_b[sell_volume:]\n",
    "#         time.sleep(1)\n",
    "#         timer +=1\n",
    "          \n",
    "    if timer%10==0:\n",
    "#         weighted_prices_a.append(average_a(5)-0.2)\n",
    "        weighted_prices_a = [average_a(5)-0.2] + weighted_prices_a\n",
    "        \n",
    "#         weighted_prices_b.append(average_b(5)+0.3)\n",
    "        weighted_prices_b = [average_b(5)+0.2] + weighted_prices_b\n",
    "        print('Updated Weights A=%s B=%s'%(np.mean(weighted_prices_a), np.mean(weighted_prices_b)))\n",
    "    time.sleep(1)\n",
    "    timer += 1\n",
    "    \n",
    "    \n",
    "end_pnl = e.get_pnl()\n",
    "\n",
    "print('Pnl of stategy = %s'%(str(end_pnl - start_pnl)))"
   ]
  },
  {
   "cell_type": "code",
   "execution_count": null,
   "id": "biblical-paintball",
   "metadata": {},
   "outputs": [],
   "source": []
  },
  {
   "cell_type": "code",
   "execution_count": null,
   "id": "regulation-princess",
   "metadata": {},
   "outputs": [],
   "source": []
  }
 ],
 "metadata": {
  "kernelspec": {
   "display_name": "Python 3",
   "language": "python",
   "name": "python3"
  },
  "language_info": {
   "codemirror_mode": {
    "name": "ipython",
    "version": 3
   },
   "file_extension": ".py",
   "mimetype": "text/x-python",
   "name": "python",
   "nbconvert_exporter": "python",
   "pygments_lexer": "ipython3",
   "version": "3.6.12"
  }
 },
 "nbformat": 4,
 "nbformat_minor": 5
}
