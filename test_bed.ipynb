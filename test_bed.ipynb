{
 "cells": [
  {
   "cell_type": "code",
   "execution_count": 138,
   "id": "portuguese-stylus",
   "metadata": {},
   "outputs": [
    {
     "name": "stderr",
     "output_type": "stream",
     "text": [
      "2021-01-23 14:07:14,368 [matplotlib.pyplot] [MainThread  ] Loaded backend module://ipykernel.pylab.backend_inline version unknown.\n"
     ]
    },
    {
     "name": "stdout",
     "output_type": "stream",
     "text": [
      "Setup was successful.\n"
     ]
    }
   ],
   "source": [
    "from optibook.synchronous_client import Exchange\n",
    "import time\n",
    "import matplotlib.pyplot as plt\n",
    "\n",
    "\n",
    "import logging\n",
    "logger = logging.getLogger('client')\n",
    "logger.setLevel('ERROR')\n",
    "\n",
    "print(\"Setup was successful.\")\n",
    "\n",
    "%matplotlib inline"
   ]
  },
  {
   "cell_type": "code",
   "execution_count": 29,
   "id": "provincial-breast",
   "metadata": {},
   "outputs": [],
   "source": [
    "philips_a = 'PHILIPS_A'\n",
    "philips_b = 'PHILIPS_B'"
   ]
  },
  {
   "cell_type": "code",
   "execution_count": 136,
   "id": "helpful-plaza",
   "metadata": {},
   "outputs": [
    {
     "name": "stdout",
     "output_type": "stream",
     "text": [
      "Collecting matplotlib\n",
      "  Downloading https://files.pythonhosted.org/packages/d2/43/2bd63467490036697e7be71444fafc7b236923d614d4521979a200c6b559/matplotlib-3.3.3-cp36-cp36m-manylinux1_x86_64.whl (11.6MB)\n",
      "\u001b[K    100% |################################| 11.6MB 119kB/s eta 0:00:01\n",
      "\u001b[?25hCollecting kiwisolver>=1.0.1 (from matplotlib)\n",
      "  Downloading https://files.pythonhosted.org/packages/a7/1b/cbd8ae738719b5f41592a12057ef5442e2ed5f5cb5451f8fc7e9f8875a1a/kiwisolver-1.3.1-cp36-cp36m-manylinux1_x86_64.whl (1.1MB)\n",
      "\u001b[K    100% |################################| 1.1MB 1.2MB/s eta 0:00:01\n",
      "\u001b[?25hCollecting cycler>=0.10 (from matplotlib)\n",
      "  Downloading https://files.pythonhosted.org/packages/f7/d2/e07d3ebb2bd7af696440ce7e754c59dd546ffe1bbe732c8ab68b9c834e61/cycler-0.10.0-py2.py3-none-any.whl\n",
      "Requirement already satisfied: numpy>=1.15 in /usr/local/lib64/python3.6/site-packages (from matplotlib)\n",
      "Collecting pillow>=6.2.0 (from matplotlib)\n",
      "  Downloading https://files.pythonhosted.org/packages/b6/c0/442d9d87e0da00bf856ef6dd4916f84a2d710b5f1a367d42d7f3c4e99a6c/Pillow-8.1.0-cp36-cp36m-manylinux1_x86_64.whl (2.2MB)\n",
      "\u001b[K    100% |################################| 2.2MB 642kB/s eta 0:00:01\n",
      "\u001b[?25hRequirement already satisfied: pyparsing!=2.0.4,!=2.1.2,!=2.1.6,>=2.0.3 in /usr/local/lib/python3.6/site-packages (from matplotlib)\n",
      "Requirement already satisfied: python-dateutil>=2.1 in /usr/local/lib/python3.6/site-packages (from matplotlib)\n",
      "Requirement already satisfied: six in /usr/local/lib/python3.6/site-packages (from cycler>=0.10->matplotlib)\n",
      "Installing collected packages: kiwisolver, cycler, pillow, matplotlib\n",
      "Successfully installed cycler-0.10.0 kiwisolver-1.3.1 matplotlib-3.3.3 pillow-8.1.0\n",
      "\u001b[33mYou are using pip version 9.0.3, however version 20.3.4 is available.\n",
      "You should consider upgrading via the 'pip install --upgrade pip' command.\u001b[0m\n"
     ]
    }
   ],
   "source": []
  },
  {
   "cell_type": "code",
   "execution_count": 100,
   "id": "surgical-covering",
   "metadata": {},
   "outputs": [
    {
     "name": "stderr",
     "output_type": "stream",
     "text": [
      "2021-01-23 13:56:59,837 [asyncio   ] [MainThread  ] Using selector: EpollSelector\n"
     ]
    }
   ],
   "source": [
    "e = Exchange()\n",
    "a = e.connect()"
   ]
  },
  {
   "cell_type": "code",
   "execution_count": 31,
   "id": "current-reserve",
   "metadata": {},
   "outputs": [],
   "source": [
    "# Returns all current positions with cash invested\n",
    "def my_position():\n",
    "    positions = e.get_positions_and_cash()\n",
    "    for p in positions:\n",
    "        print(p, positions[p])"
   ]
  },
  {
   "cell_type": "code",
   "execution_count": 32,
   "id": "instrumental-bradley",
   "metadata": {},
   "outputs": [],
   "source": [
    "# See all your outstanding orders\n",
    "outstanding = e.get_outstanding_orders(philips_a)\n",
    "for o in outstanding.values():\n",
    "    print(f\"Outstanding order: order_id({o.order_id}), instrument_id({o.instrument_id}), price({o.price}), volume({o.volume}), side({o.side})\")"
   ]
  },
  {
   "cell_type": "code",
   "execution_count": 9,
   "id": "rolled-canada",
   "metadata": {},
   "outputs": [
    {
     "name": "stdout",
     "output_type": "stream",
     "text": [
      "Order Id: 169897\n"
     ]
    }
   ],
   "source": []
  },
  {
   "cell_type": "code",
   "execution_count": 124,
   "id": "pressing-christian",
   "metadata": {},
   "outputs": [],
   "source": [
    "# Returns all public tradeticks since the last time this function was called\n",
    "tradeticks = e.poll_new_trade_ticks(philips_a)\n",
    "for t in tradeticks:\n",
    "    print(f\"[{t.instrument_id}] price({t.price}), volume({t.volume}), aggressor_side({t.aggressor_side}), buyer({t.buyer}), seller({t.seller})\")"
   ]
  },
  {
   "cell_type": "code",
   "execution_count": 57,
   "id": "thrown-nirvana",
   "metadata": {},
   "outputs": [
    {
     "name": "stdout",
     "output_type": "stream",
     "text": [
      "bid : 66.5\n",
      "ask : 67.0\n",
      "bid : 66.5\n",
      "ask : 66.8\n",
      "bid : 66.5\n",
      "ask : 68.10000000000001\n",
      "bid : 66.5\n",
      "ask : 67.0\n",
      "bid : 66.5\n",
      "ask : 66.7\n",
      "bid : 66.10000000000001\n",
      "ask : 68.10000000000001\n",
      "bid : 66.10000000000001\n",
      "ask : 66.60000000000001\n",
      "bid : 66.10000000000001\n",
      "ask : 66.4\n",
      "bid : 66.10000000000001\n",
      "ask : 66.5\n",
      "bid : 66.10000000000001\n",
      "ask : 66.60000000000001\n",
      "bid : 66.10000000000001\n",
      "ask : 66.5\n",
      "bid : 66.10000000000001\n",
      "ask : 66.5\n"
     ]
    },
    {
     "ename": "KeyboardInterrupt",
     "evalue": "",
     "output_type": "error",
     "traceback": [
      "\u001b[0;31m---------------------------------------------------------------------------\u001b[0m",
      "\u001b[0;31mKeyboardInterrupt\u001b[0m                         Traceback (most recent call last)",
      "\u001b[0;32m<ipython-input-57-2d93d56b32f9>\u001b[0m in \u001b[0;36m<module>\u001b[0;34m\u001b[0m\n\u001b[1;32m     13\u001b[0m     \u001b[0mbest_ask\u001b[0m \u001b[0;34m=\u001b[0m \u001b[0mbook\u001b[0m\u001b[0;34m.\u001b[0m\u001b[0mbids\u001b[0m\u001b[0;34m[\u001b[0m\u001b[0;36m0\u001b[0m\u001b[0;34m]\u001b[0m\u001b[0;34m.\u001b[0m\u001b[0mprice\u001b[0m\u001b[0;34m\u001b[0m\u001b[0;34m\u001b[0m\u001b[0m\n\u001b[1;32m     14\u001b[0m     \u001b[0mbuying_trade\u001b[0m \u001b[0;34m=\u001b[0m \u001b[0me\u001b[0m\u001b[0;34m.\u001b[0m\u001b[0minsert_order\u001b[0m\u001b[0;34m(\u001b[0m\u001b[0mphilips_a\u001b[0m\u001b[0;34m,\u001b[0m \u001b[0mprice\u001b[0m\u001b[0;34m=\u001b[0m\u001b[0mbest_bid\u001b[0m\u001b[0;34m,\u001b[0m \u001b[0mvolume\u001b[0m\u001b[0;34m=\u001b[0m\u001b[0;36m50\u001b[0m\u001b[0;34m,\u001b[0m \u001b[0mside\u001b[0m\u001b[0;34m=\u001b[0m\u001b[0;34m'bid'\u001b[0m\u001b[0;34m,\u001b[0m \u001b[0morder_type\u001b[0m\u001b[0;34m=\u001b[0m\u001b[0;34m'limit'\u001b[0m\u001b[0;34m)\u001b[0m\u001b[0;34m\u001b[0m\u001b[0;34m\u001b[0m\u001b[0m\n\u001b[0;32m---> 15\u001b[0;31m     \u001b[0mtime\u001b[0m\u001b[0;34m.\u001b[0m\u001b[0msleep\u001b[0m\u001b[0;34m(\u001b[0m\u001b[0;36m2\u001b[0m\u001b[0;34m)\u001b[0m\u001b[0;34m\u001b[0m\u001b[0;34m\u001b[0m\u001b[0m\n\u001b[0m\u001b[1;32m     16\u001b[0m     \u001b[0mbook\u001b[0m \u001b[0;34m=\u001b[0m \u001b[0me\u001b[0m\u001b[0;34m.\u001b[0m\u001b[0mget_last_price_book\u001b[0m\u001b[0;34m(\u001b[0m\u001b[0mphilips_a\u001b[0m\u001b[0;34m)\u001b[0m\u001b[0;34m\u001b[0m\u001b[0;34m\u001b[0m\u001b[0m\n\u001b[1;32m     17\u001b[0m     \u001b[0mbest_ask\u001b[0m \u001b[0;34m=\u001b[0m \u001b[0mbook\u001b[0m\u001b[0;34m.\u001b[0m\u001b[0mbids\u001b[0m\u001b[0;34m[\u001b[0m\u001b[0;36m0\u001b[0m\u001b[0;34m]\u001b[0m\u001b[0;34m.\u001b[0m\u001b[0mprice\u001b[0m\u001b[0;34m\u001b[0m\u001b[0;34m\u001b[0m\u001b[0m\n",
      "\u001b[0;31mKeyboardInterrupt\u001b[0m: "
     ]
    }
   ],
   "source": [
    "\n",
    "\n",
    "\n",
    "#print(book.bids)\n",
    "#print(book.asks)\n",
    "\n",
    "while True:\n",
    "    time.sleep(3)\n",
    "    book = e.get_last_price_book(philips_a)\n",
    "    print('bid : %s'%book.bids[0].price)\n",
    "    print('ask : %s'%book.asks[0].price)\n",
    "    best_bid = book.bids[0].price\n",
    "    best_ask = book.bids[0].price\n",
    "    buying_trade = e.insert_order(philips_a, price=best_bid, volume=50, side='bid', order_type='limit')\n",
    "    time.sleep(2)\n",
    "    book = e.get_last_price_book(philips_a)\n",
    "    best_ask = book.bids[0].price\n",
    "    selling_trade = e.insert_order(philips_a, price=best_ask-0.1, volume=50, side='ask', order_type='limit')\n",
    "    \n"
   ]
  },
  {
   "cell_type": "code",
   "execution_count": 125,
   "id": "chinese-federal",
   "metadata": {},
   "outputs": [
    {
     "name": "stdout",
     "output_type": "stream",
     "text": [
      "bid : 65.9\n",
      "ask : 66.4\n"
     ]
    }
   ],
   "source": [
    "book = e.get_last_price_book(philips_a)\n",
    "print('bid : %s'%book.bids[0].price)\n",
    "print('ask : %s'%book.asks[0].price)\n",
    "best_bid = book.bids[0].price\n",
    "best_ask = book.bids[0].price "
   ]
  },
  {
   "cell_type": "code",
   "execution_count": 61,
   "id": "eleven-adult",
   "metadata": {},
   "outputs": [],
   "source": [
    "buying_trade = e.insert_order(philips_a, price=best_ask+4, volume=97, side='ask', order_type='limit')"
   ]
  },
  {
   "cell_type": "code",
   "execution_count": 53,
   "id": "innovative-catch",
   "metadata": {},
   "outputs": [
    {
     "name": "stdout",
     "output_type": "stream",
     "text": [
      "173320\n"
     ]
    }
   ],
   "source": [
    "print(buying_trade)"
   ]
  },
  {
   "cell_type": "code",
   "execution_count": 152,
   "id": "motivated-moisture",
   "metadata": {},
   "outputs": [],
   "source": [
    "def cross_market_trade(vol):\n",
    "\n",
    "    book_a = e.get_last_price_book(philips_a)\n",
    "    book_b = e.get_last_price_book(philips_b)\n",
    "\n",
    "    #print('bid_a : %s'%book_a.bids[0].price)\n",
    "    #print('bid_b : %s'%book_b.bids[0].price)\n",
    "    best_bid_a = book_a.bids[0].price\n",
    "    best_bid_b = book_b.bids[0].price \n",
    "\n",
    "    #print('ask_a : %s'%book_a.asks[0].price)\n",
    "    #print('ask_b : %s'%book_b.asks[0].price)\n",
    "\n",
    "\n",
    "    if best_bid_a<best_bid_b:\n",
    "        bid_volume = book_a.bids[0].volume\n",
    "        print('Buying from A at %s'%(best_bid_a))\n",
    "        book_a = e.get_last_price_book(philips_a)\n",
    "        book_b = e.get_last_price_book(philips_b)\n",
    "        best_ask_a = book_a.asks[0].price\n",
    "        best_ask_b = book_b.asks[0].price\n",
    "        \n",
    "        \n",
    "        \n",
    "        if best_ask_b>best_ask_a:\n",
    "            volume = min(book_b.asks[0].volume, bid_volume)\n",
    "            if volume <1:\n",
    "                volume=2\n",
    "            buying_trade = e.insert_order(philips_a, price=best_bid_a+0.1, volume=int(volume/2), side='bid', order_type='limit')\n",
    "            selling_trade = e.insert_order(philips_b, price=best_ask_b-0.1, volume=int(volume/2), side='ask', order_type='limit')\n",
    "            print(\"Selling %s to B at %s\"%(volume,str(best_ask_b-0.1)))\n",
    "        else:\n",
    "            volume = min(book_a.asks[0].volume, bid_volume)\n",
    "            if volume <1:\n",
    "                volume=2\n",
    "            buying_trade = e.insert_order(philips_a, price=best_bid_a+0.1, volume=int(volume/2), side='bid', order_type='limit')\n",
    "            selling_trade = e.insert_order(philips_a, price=best_ask_a-0.1, volume=int(volume/2), side='ask', order_type='limit')\n",
    "            print(\"Selling %s to A at %s\"%(volume,str(best_ask_a-0.1)))\n",
    "\n",
    "    elif best_bid_a>best_bid_b:\n",
    "        bid_volume = book_b.bids[0].volume\n",
    "        print('Buying from B at %s'%(best_bid_b))\n",
    "        book_a = e.get_last_price_book(philips_a)\n",
    "        book_b = e.get_last_price_book(philips_b)\n",
    "        best_ask_a = book_a.asks[0].price\n",
    "        best_ask_b = book_b.asks[0].price\n",
    "        if best_ask_b>best_ask_a:\n",
    "            volume = min(book_b.asks[0].volume, bid_volume)\n",
    "            if volume <1:\n",
    "                volume=2\n",
    "            buying_trade = e.insert_order(philips_a, price=best_bid_b+0.1, volume=int(volume/2), side='bid', order_type='limit')\n",
    "            selling_trade = e.insert_order(philips_b, price=best_ask_b-0.1, volume=int(volume/2), side='ask', order_type='limit')\n",
    "            print(\"Selling %s to B at %s\"%(volume,str(best_ask_b-0.1)))\n",
    "        else:\n",
    "            volume = min(book_a.asks[0].volume, bid_volume)\n",
    "            if volume <1:\n",
    "                volume=2\n",
    "            buying_trade = e.insert_order(philips_b, price=best_bid_a+0.1, volume=int(volume/2), side='bid', order_type='limit')\n",
    "            selling_trade = e.insert_order(philips_a, price=best_ask_a-0.1, volume=int(volume/2), side='ask', order_type='limit')\n",
    "            print(\"Selling %s to A at %s\"%(volume,str(best_ask_a-0.1)))"
   ]
  },
  {
   "cell_type": "code",
   "execution_count": 139,
   "id": "brown-carrier",
   "metadata": {},
   "outputs": [],
   "source": [
    "def strategy():\n",
    "    starting_pnl = e.get_pnl()\n",
    "    pnls = []\n",
    "    times = []\n",
    "    timer = 0\n",
    "    while timer<120:\n",
    "        cross_market_trade(3)\n",
    "        pnls.append(e.get_pnl())\n",
    "        time.sleep(10)\n",
    "        times.append(timer)\n",
    "        timer += 5\n",
    "    ending_pnl = e.get_pnl()\n",
    "    print('Started at %s - Ended at %s'%(str(starting_pnl), str(ending_pnl)))\n",
    "    plt.figure()\n",
    "    plt.plot(times, pnls)\n",
    "    plt.show()\n",
    "        "
   ]
  },
  {
   "cell_type": "code",
   "execution_count": 140,
   "id": "going-print",
   "metadata": {},
   "outputs": [
    {
     "name": "stdout",
     "output_type": "stream",
     "text": [
      "Buying from B at 73.0\n",
      "Selling 40 to A at 73.9\n",
      "Buying from A at 73.10000000000001\n",
      "Selling 200 to A at 73.60000000000001\n",
      "Buying from A at 73.2\n",
      "Selling 100 to A at 73.50000000000001\n",
      "Buying from A at 72.4\n",
      "Selling 20 to B at 73.30000000000001\n",
      "Buying from A at 72.5\n",
      "Selling 10 to B at 73.2\n",
      "Buying from A at 72.0\n",
      "Selling 65 to B at 73.10000000000001\n",
      "Buying from A at 72.10000000000001\n",
      "Selling 32 to B at 73.00000000000001\n",
      "Buying from A at 72.2\n",
      "Selling 40 to B at 72.80000000000001\n",
      "Buying from A at 72.3\n",
      "Selling 20 to A at 72.7\n",
      "Buying from A at 72.4\n",
      "Selling 10 to B at 72.60000000000001\n",
      "Buying from B at 72.3\n",
      "Selling 20 to A at 72.60000000000001\n",
      "Buying from A at 72.10000000000001\n",
      "Selling 32 to B at 72.60000000000001\n",
      "Buying from A at 72.10000000000001\n",
      "Selling 16 to B at 72.50000000000001\n",
      "Buying from A at 71.60000000000001\n",
      "Selling 8 to B at 72.4\n",
      "Buying from A at 71.9\n",
      "Selling 8 to B at 72.4\n",
      "Buying from A at 72.0\n",
      "Selling 4 to B at 72.4\n",
      "Buying from A at 72.10000000000001\n",
      "Selling 2 to B at 72.50000000000001\n",
      "Buying from B at 72.2\n",
      "Selling 10 to A at 72.50000000000001\n"
     ]
    },
    {
     "name": "stderr",
     "output_type": "stream",
     "text": [
      "2021-01-23 14:09:57,526 [matplotlib.font_manager] [MainThread  ] findfont: Matching sans\\-serif:style=normal:variant=normal:weight=normal:stretch=normal:size=10.0.\n",
      "2021-01-23 14:09:57,527 [matplotlib.font_manager] [MainThread  ] findfont: score(<Font 'DejaVu Sans Mono' (DejaVuSansMono-Oblique.ttf) oblique normal 400 normal>) = 11.05\n",
      "2021-01-23 14:09:57,529 [matplotlib.font_manager] [MainThread  ] findfont: score(<Font 'DejaVu Serif' (DejaVuSerif.ttf) normal normal 400 normal>) = 10.05\n",
      "2021-01-23 14:09:57,530 [matplotlib.font_manager] [MainThread  ] findfont: score(<Font 'DejaVu Sans Mono' (DejaVuSansMono-Bold.ttf) normal normal 700 normal>) = 10.335\n",
      "2021-01-23 14:09:57,531 [matplotlib.font_manager] [MainThread  ] findfont: score(<Font 'STIXNonUnicode' (STIXNonUniBolIta.ttf) italic normal 700 normal>) = 11.335\n",
      "2021-01-23 14:09:57,532 [matplotlib.font_manager] [MainThread  ] findfont: score(<Font 'DejaVu Sans' (DejaVuSans-Bold.ttf) normal normal 700 normal>) = 0.33499999999999996\n",
      "2021-01-23 14:09:57,533 [matplotlib.font_manager] [MainThread  ] findfont: score(<Font 'STIXSizeFourSym' (STIXSizFourSymBol.ttf) normal normal 700 normal>) = 10.335\n",
      "2021-01-23 14:09:57,534 [matplotlib.font_manager] [MainThread  ] findfont: score(<Font 'cmb10' (cmb10.ttf) normal normal 400 normal>) = 10.05\n",
      "2021-01-23 14:09:57,535 [matplotlib.font_manager] [MainThread  ] findfont: score(<Font 'DejaVu Sans' (DejaVuSans-Oblique.ttf) oblique normal 400 normal>) = 1.05\n",
      "2021-01-23 14:09:57,536 [matplotlib.font_manager] [MainThread  ] findfont: score(<Font 'DejaVu Sans Display' (DejaVuSansDisplay.ttf) normal normal 400 normal>) = 10.05\n",
      "2021-01-23 14:09:57,537 [matplotlib.font_manager] [MainThread  ] findfont: score(<Font 'DejaVu Serif Display' (DejaVuSerifDisplay.ttf) normal normal 400 normal>) = 10.05\n",
      "2021-01-23 14:09:57,538 [matplotlib.font_manager] [MainThread  ] findfont: score(<Font 'cmmi10' (cmmi10.ttf) normal normal 400 normal>) = 10.05\n",
      "2021-01-23 14:09:57,539 [matplotlib.font_manager] [MainThread  ] findfont: score(<Font 'DejaVu Serif' (DejaVuSerif-Italic.ttf) italic normal 400 normal>) = 11.05\n",
      "2021-01-23 14:09:57,540 [matplotlib.font_manager] [MainThread  ] findfont: score(<Font 'DejaVu Sans Mono' (DejaVuSansMono.ttf) normal normal 400 normal>) = 10.05\n",
      "2021-01-23 14:09:57,540 [matplotlib.font_manager] [MainThread  ] findfont: score(<Font 'STIXNonUnicode' (STIXNonUniBol.ttf) normal normal 700 normal>) = 10.335\n",
      "2021-01-23 14:09:57,541 [matplotlib.font_manager] [MainThread  ] findfont: score(<Font 'STIXGeneral' (STIXGeneralItalic.ttf) italic normal 400 normal>) = 11.05\n",
      "2021-01-23 14:09:57,542 [matplotlib.font_manager] [MainThread  ] findfont: score(<Font 'STIXSizeOneSym' (STIXSizOneSymReg.ttf) normal normal 400 normal>) = 10.05\n",
      "2021-01-23 14:09:57,543 [matplotlib.font_manager] [MainThread  ] findfont: score(<Font 'cmsy10' (cmsy10.ttf) normal normal 400 normal>) = 10.05\n",
      "2021-01-23 14:09:57,544 [matplotlib.font_manager] [MainThread  ] findfont: score(<Font 'DejaVu Serif' (DejaVuSerif-BoldItalic.ttf) italic normal 700 normal>) = 11.335\n",
      "2021-01-23 14:09:57,544 [matplotlib.font_manager] [MainThread  ] findfont: score(<Font 'cmss10' (cmss10.ttf) normal normal 400 normal>) = 10.05\n",
      "2021-01-23 14:09:57,545 [matplotlib.font_manager] [MainThread  ] findfont: score(<Font 'STIXGeneral' (STIXGeneralBolIta.ttf) italic normal 700 normal>) = 11.335\n",
      "2021-01-23 14:09:57,546 [matplotlib.font_manager] [MainThread  ] findfont: score(<Font 'cmtt10' (cmtt10.ttf) normal normal 400 normal>) = 10.05\n",
      "2021-01-23 14:09:57,547 [matplotlib.font_manager] [MainThread  ] findfont: score(<Font 'DejaVu Serif' (DejaVuSerif-Bold.ttf) normal normal 700 normal>) = 10.335\n",
      "2021-01-23 14:09:57,547 [matplotlib.font_manager] [MainThread  ] findfont: score(<Font 'STIXSizeOneSym' (STIXSizOneSymBol.ttf) normal normal 700 normal>) = 10.335\n",
      "2021-01-23 14:09:57,548 [matplotlib.font_manager] [MainThread  ] findfont: score(<Font 'DejaVu Sans' (DejaVuSans.ttf) normal normal 400 normal>) = 0.05\n",
      "2021-01-23 14:09:57,549 [matplotlib.font_manager] [MainThread  ] findfont: score(<Font 'cmr10' (cmr10.ttf) normal normal 400 normal>) = 10.05\n",
      "2021-01-23 14:09:57,549 [matplotlib.font_manager] [MainThread  ] findfont: score(<Font 'STIXSizeThreeSym' (STIXSizThreeSymBol.ttf) normal normal 700 normal>) = 10.335\n",
      "2021-01-23 14:09:57,550 [matplotlib.font_manager] [MainThread  ] findfont: score(<Font 'STIXSizeTwoSym' (STIXSizTwoSymBol.ttf) normal normal 700 normal>) = 10.335\n",
      "2021-01-23 14:09:57,551 [matplotlib.font_manager] [MainThread  ] findfont: score(<Font 'STIXSizeThreeSym' (STIXSizThreeSymReg.ttf) normal normal 400 normal>) = 10.05\n",
      "2021-01-23 14:09:57,551 [matplotlib.font_manager] [MainThread  ] findfont: score(<Font 'STIXNonUnicode' (STIXNonUni.ttf) normal normal 400 normal>) = 10.05\n",
      "2021-01-23 14:09:57,552 [matplotlib.font_manager] [MainThread  ] findfont: score(<Font 'DejaVu Sans' (DejaVuSans-BoldOblique.ttf) oblique normal 700 normal>) = 1.335\n",
      "2021-01-23 14:09:57,553 [matplotlib.font_manager] [MainThread  ] findfont: score(<Font 'STIXSizeTwoSym' (STIXSizTwoSymReg.ttf) normal normal 400 normal>) = 10.05\n",
      "2021-01-23 14:09:57,553 [matplotlib.font_manager] [MainThread  ] findfont: score(<Font 'STIXNonUnicode' (STIXNonUniIta.ttf) italic normal 400 normal>) = 11.05\n",
      "2021-01-23 14:09:57,554 [matplotlib.font_manager] [MainThread  ] findfont: score(<Font 'DejaVu Sans Mono' (DejaVuSansMono-BoldOblique.ttf) oblique normal 700 normal>) = 11.335\n",
      "2021-01-23 14:09:57,555 [matplotlib.font_manager] [MainThread  ] findfont: score(<Font 'STIXSizeFourSym' (STIXSizFourSymReg.ttf) normal normal 400 normal>) = 10.05\n",
      "2021-01-23 14:09:57,555 [matplotlib.font_manager] [MainThread  ] findfont: score(<Font 'STIXSizeFiveSym' (STIXSizFiveSymReg.ttf) normal normal 400 normal>) = 10.05\n",
      "2021-01-23 14:09:57,556 [matplotlib.font_manager] [MainThread  ] findfont: score(<Font 'STIXGeneral' (STIXGeneralBol.ttf) normal normal 700 normal>) = 10.335\n",
      "2021-01-23 14:09:57,557 [matplotlib.font_manager] [MainThread  ] findfont: score(<Font 'STIXGeneral' (STIXGeneral.ttf) normal normal 400 normal>) = 10.05\n",
      "2021-01-23 14:09:57,557 [matplotlib.font_manager] [MainThread  ] findfont: score(<Font 'cmex10' (cmex10.ttf) normal normal 400 normal>) = 10.05\n",
      "2021-01-23 14:09:57,558 [matplotlib.font_manager] [MainThread  ] findfont: score(<Font 'DejaVu Serif' (DejaVuSerifCondensed.ttf) normal normal 400 condensed>) = 10.25\n",
      "2021-01-23 14:09:57,559 [matplotlib.font_manager] [MainThread  ] findfont: score(<Font 'DejaVu Sans' (DejaVuSans-BoldOblique.ttf) oblique normal 700 normal>) = 1.335\n",
      "2021-01-23 14:09:57,559 [matplotlib.font_manager] [MainThread  ] findfont: score(<Font 'DejaVu Serif' (DejaVuSerifCondensed-Bold.ttf) normal normal 700 condensed>) = 10.535\n",
      "2021-01-23 14:09:57,560 [matplotlib.font_manager] [MainThread  ] findfont: score(<Font 'DejaVu Sans' (DejaVuSansCondensed-BoldOblique.ttf) oblique normal 700 condensed>) = 1.535\n",
      "2021-01-23 14:09:57,561 [matplotlib.font_manager] [MainThread  ] findfont: score(<Font 'DejaVu Serif' (DejaVuSerif-Italic.ttf) italic normal 400 normal>) = 11.05\n",
      "2021-01-23 14:09:57,561 [matplotlib.font_manager] [MainThread  ] findfont: score(<Font 'DejaVu Serif' (DejaVuSerif-BoldItalic.ttf) italic normal 700 normal>) = 11.335\n",
      "2021-01-23 14:09:57,562 [matplotlib.font_manager] [MainThread  ] findfont: score(<Font 'DejaVu Serif' (DejaVuSerif.ttf) normal normal 400 normal>) = 10.05\n",
      "2021-01-23 14:09:57,563 [matplotlib.font_manager] [MainThread  ] findfont: score(<Font 'DejaVu Sans Mono' (DejaVuSansMono-Oblique.ttf) oblique normal 400 normal>) = 11.05\n",
      "2021-01-23 14:09:57,563 [matplotlib.font_manager] [MainThread  ] findfont: score(<Font 'DejaVu Sans Mono' (DejaVuSansMono.ttf) normal normal 400 normal>) = 10.05\n",
      "2021-01-23 14:09:57,564 [matplotlib.font_manager] [MainThread  ] findfont: score(<Font 'DejaVu Serif' (DejaVuSerifCondensed-BoldItalic.ttf) italic normal 700 condensed>) = 11.535\n",
      "2021-01-23 14:09:57,565 [matplotlib.font_manager] [MainThread  ] findfont: score(<Font 'DejaVu Sans' (DejaVuSans-ExtraLight.ttf) normal normal 200 normal>) = 0.24\n",
      "2021-01-23 14:09:57,565 [matplotlib.font_manager] [MainThread  ] findfont: score(<Font 'DejaVu Sans' (DejaVuSansCondensed-Bold.ttf) normal normal 700 condensed>) = 0.5349999999999999\n",
      "2021-01-23 14:09:57,566 [matplotlib.font_manager] [MainThread  ] findfont: score(<Font 'DejaVu Sans Mono' (DejaVuSansMono-BoldOblique.ttf) oblique normal 700 normal>) = 11.335\n",
      "2021-01-23 14:09:57,567 [matplotlib.font_manager] [MainThread  ] findfont: score(<Font 'DejaVu Sans' (DejaVuSansCondensed-Oblique.ttf) oblique normal 400 condensed>) = 1.25\n",
      "2021-01-23 14:09:57,568 [matplotlib.font_manager] [MainThread  ] findfont: score(<Font 'DejaVu Sans' (DejaVuSans-Bold.ttf) normal normal 700 normal>) = 0.33499999999999996\n",
      "2021-01-23 14:09:57,568 [matplotlib.font_manager] [MainThread  ] findfont: score(<Font 'DejaVu Sans' (DejaVuSansCondensed.ttf) normal normal 400 condensed>) = 0.25\n",
      "2021-01-23 14:09:57,569 [matplotlib.font_manager] [MainThread  ] findfont: score(<Font 'DejaVu Sans' (DejaVuSans-Oblique.ttf) oblique normal 400 normal>) = 1.05\n",
      "2021-01-23 14:09:57,570 [matplotlib.font_manager] [MainThread  ] findfont: score(<Font 'DejaVu Sans Mono' (DejaVuSansMono-Bold.ttf) normal normal 700 normal>) = 10.335\n",
      "2021-01-23 14:09:57,570 [matplotlib.font_manager] [MainThread  ] findfont: score(<Font 'DejaVu Serif' (DejaVuSerifCondensed-Italic.ttf) italic normal 400 condensed>) = 11.25\n",
      "2021-01-23 14:09:57,571 [matplotlib.font_manager] [MainThread  ] findfont: score(<Font 'DejaVu Serif' (DejaVuSerif-Bold.ttf) normal normal 700 normal>) = 10.335\n",
      "2021-01-23 14:09:57,572 [matplotlib.font_manager] [MainThread  ] findfont: score(<Font 'DejaVu Sans' (DejaVuSans.ttf) normal normal 400 normal>) = 0.05\n",
      "2021-01-23 14:09:57,573 [matplotlib.font_manager] [MainThread  ] findfont: Matching sans\\-serif:style=normal:variant=normal:weight=normal:stretch=normal:size=10.0 to DejaVu Sans ('/usr/local/lib64/python3.6/site-packages/matplotlib/mpl-data/fonts/ttf/DejaVuSans.ttf') with score of 0.050000.\n"
     ]
    },
    {
     "name": "stdout",
     "output_type": "stream",
     "text": [
      "Started at -92.00000000000523 - Ended at -240.5000000000049\n"
     ]
    },
    {
     "data": {
      "image/png": "[encoded data removed]",
      "text/plain": [
       "<Figure size 432x288 with 1 Axes>"
      ]
     },
     "metadata": {
      "needs_background": "light"
     },
     "output_type": "display_data"
    }
   ],
   "source": [
    "strategy()"
   ]
  },
  {
   "cell_type": "code",
   "execution_count": 128,
   "id": "informed-cosmetic",
   "metadata": {},
   "outputs": [],
   "source": [
    "def buy_back_stocks():\n",
    "    positions = e.get_positions_and_cash()\n",
    "    for p in positions:\n",
    "        print(p, positions[p])\n",
    "        if positions[p]['volume']<0:\n",
    "            book = e.get_last_price_book(p)\n",
    "            best_bid = book.bids[0].price\n",
    "            buying_trade = e.insert_order(p, price=best_bid+0.2, volume=-positions[p]['volume'], side='bid', order_type='limit')\n",
    "            \n",
    "def sell_back_stocks():\n",
    "    positions = e.get_positions_and_cash()\n",
    "    for p in positions:\n",
    "        print(p, positions[p])\n",
    "        if positions[p]['volume']>0:\n",
    "            book = e.get_last_price_book(p)\n",
    "            print(book.asks)\n",
    "            best_ask = book.asks[0].price\n",
    "            selling_trade = e.insert_order(p, price=best_ask-0.2, volume=positions[p]['volume'], side='ask', order_type='limit')   \n",
    "            print(selling_trade)\n",
    "\n",
    "def delete_order(instrument):\n",
    "    # Delete all outstanding orders\n",
    "    outstanding = e.get_outstanding_orders(instrument)\n",
    "    for o in outstanding.values():\n",
    "        result = e.delete_order(instrument, order_id=o.order_id)\n",
    "        print(f\"Deleted order id {o.order_id}: {result}\")"
   ]
  },
  {
   "cell_type": "code",
   "execution_count": 154,
   "id": "packed-woman",
   "metadata": {},
   "outputs": [
    {
     "name": "stdout",
     "output_type": "stream",
     "text": [
      "PHILIPS_A {'volume': 4, 'cash': -769.8000000000047}\n",
      "PHILIPS_B {'volume': 0, 'cash': 80.10000000000014}\n",
      "PHILIPS_A {'volume': 4, 'cash': -769.8000000000047}\n",
      "[[price_volume] price=70.2, volume=200, [price_volume] price=72.0, volume=4, [price_volume] price=73.5, volume=1, [price_volume] price=100.0, volume=1, [price_volume] price=300.0, volume=1]\n",
      "197143\n",
      "PHILIPS_B {'volume': 0, 'cash': 80.10000000000014}\n"
     ]
    }
   ],
   "source": [
    "buy_back_stocks()\n",
    "sell_back_stocks()\n"
   ]
  },
  {
   "cell_type": "code",
   "execution_count": 149,
   "id": "ruled-report",
   "metadata": {},
   "outputs": [
    {
     "name": "stdout",
     "output_type": "stream",
     "text": [
      "Deleted order id 196014: True\n",
      "Deleted order id 196054: True\n",
      "Deleted order id 196070: True\n",
      "Deleted order id 196213: True\n",
      "Deleted order id 196260: True\n",
      "Deleted order id 196376: True\n",
      "Deleted order id 196131: True\n",
      "Deleted order id 196149: True\n",
      "Deleted order id 196163: True\n",
      "Deleted order id 196178: True\n",
      "Deleted order id 196277: True\n"
     ]
    }
   ],
   "source": [
    "delete_order(philips_a)\n",
    "delete_order(philips_b)"
   ]
  },
  {
   "cell_type": "code",
   "execution_count": 155,
   "id": "fallen-thirty",
   "metadata": {},
   "outputs": [
    {
     "name": "stdout",
     "output_type": "stream",
     "text": [
      "PHILIPS_A {'volume': 0, 'cash': -489.80000000000473}\n",
      "PHILIPS_B {'volume': 0, 'cash': 80.10000000000014}\n"
     ]
    }
   ],
   "source": [
    "my_position()"
   ]
  },
  {
   "cell_type": "code",
   "execution_count": null,
   "id": "comprehensive-williams",
   "metadata": {},
   "outputs": [],
   "source": []
  }
 ],
 "metadata": {
  "kernelspec": {
   "display_name": "Python 3",
   "language": "python",
   "name": "python3"
  },
  "language_info": {
   "codemirror_mode": {
    "name": "ipython",
    "version": 3
   },
   "file_extension": ".py",
   "mimetype": "text/x-python",
   "name": "python",
   "nbconvert_exporter": "python",
   "pygments_lexer": "ipython3",
   "version": "3.6.12"
  }
 },
 "nbformat": 4,
 "nbformat_minor": 5
}
